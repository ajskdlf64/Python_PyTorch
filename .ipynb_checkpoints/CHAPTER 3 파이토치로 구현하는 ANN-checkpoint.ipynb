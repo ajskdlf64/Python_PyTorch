{
 "cells": [
  {
   "cell_type": "markdown",
   "metadata": {},
   "source": [
    "# 3.1 텐서와 Autograd"
   ]
  },
  {
   "cell_type": "markdown",
   "metadata": {},
   "source": [
    "## 3.1.1 텐서의 차원 자유자재로 다루기"
   ]
  },
  {
   "cell_type": "code",
   "execution_count": 1,
   "metadata": {},
   "outputs": [],
   "source": [
    "# Pytorch 임포트\n",
    "import torch"
   ]
  },
  {
   "cell_type": "markdown",
   "metadata": {},
   "source": [
    "텐서는 파이토치에서 다양한 수식을 계산하는데 가장 기본적인 자료구조이다. 수학의 벡터나 행렬을 일반화한 개념으로서, 숫자들을 특정한 모양으로 배열한 것이다. 텐서에는 \"차원\" 또는 \"랭크(rank)\"라는 개념이 있다. 예를 들어 랭크가 0이면 숫자가 하나인 스칼라(Scalar), 랭크 1 텐서는 일렬로 숫자를 나열한 벡터(Vector), 랭크 2 텐서는 2차원 행렬(Matrix), 랭크 3 텐서는 정육면체 같은 3차원 행렬이다. 3차원 이상은 랭크 n 텐서라고 부른다.\n",
    "\n",
    "\n",
    "- 1 ->  스칼라, []\n",
    "- [1,2,3] ->  벡터, [3]\n",
    "- [[1,2,3,]] ->  행렬, [1,3]\n",
    "- [[[1,2,3]]] ->  n랭크 텐서, [1,1,3]"
   ]
  },
  {
   "cell_type": "markdown",
   "metadata": {},
   "source": [
    "![파이토치 설정](./Image/figure10.png)"
   ]
  },
  {
   "cell_type": "markdown",
   "metadata": {},
   "source": [
    "위와 같은 모양의 텐서를 만들려면 코드를 다음과 같이 짜면 된다."
   ]
  },
  {
   "cell_type": "code",
   "execution_count": 2,
   "metadata": {},
   "outputs": [
    {
     "name": "stdout",
     "output_type": "stream",
     "text": [
      "tensor([[1, 2, 3],\n",
      "        [4, 5, 6],\n",
      "        [7, 8, 9]])\n"
     ]
    }
   ],
   "source": [
    "x = torch.tensor([[1,2,3],[4,5,6],[7,8,9]])\n",
    "print(x)"
   ]
  },
  {
   "cell_type": "markdown",
   "metadata": {},
   "source": [
    "만들어진 텐서의 구체적인 형태는 size() 함수나 shape 키워드를 사용하면 확인할 수 있다. 단순히 텐서의 랭크를 확인하려면 ndimension() 함수를 사용하면 된다."
   ]
  },
  {
   "cell_type": "code",
   "execution_count": 3,
   "metadata": {},
   "outputs": [
    {
     "name": "stdout",
     "output_type": "stream",
     "text": [
      "x's size :  torch.Size([3, 3])\n",
      "x's shape :  torch.Size([3, 3])\n",
      "x's 랭크(차원) :  2\n"
     ]
    }
   ],
   "source": [
    "x = torch.tensor([[1,2,3],[4,5,6],[7,8,9]])\n",
    "print(\"x's size : \", x.size())\n",
    "print(\"x's shape : \", x.shape)\n",
    "print(\"x's 랭크(차원) : \", x.ndimension())"
   ]
  },
  {
   "cell_type": "markdown",
   "metadata": {},
   "source": [
    "unsqueeze(), squeeze(), view() 함수로 텐서의 랭크와 shape를 인위적으로 변경할 수도 있다."
   ]
  },
  {
   "cell_type": "code",
   "execution_count": 4,
   "metadata": {},
   "outputs": [
    {
     "name": "stdout",
     "output_type": "stream",
     "text": [
      "tensor([[[1, 2, 3],\n",
      "         [4, 5, 6],\n",
      "         [7, 8, 9]]])\n",
      "x's size :  torch.Size([1, 3, 3])\n",
      "x's shape :  torch.Size([1, 3, 3])\n",
      "x's 랭크(차원) :  3\n"
     ]
    }
   ],
   "source": [
    "# 랭크 늘리기\n",
    "x = torch.unsqueeze(x,0)\n",
    "print(x)\n",
    "print(\"x's size : \", x.size())\n",
    "print(\"x's shape : \", x.shape)\n",
    "print(\"x's 랭크(차원) : \", x.ndimension())"
   ]
  },
  {
   "cell_type": "code",
   "execution_count": 5,
   "metadata": {},
   "outputs": [
    {
     "name": "stdout",
     "output_type": "stream",
     "text": [
      "tensor([[1, 2, 3],\n",
      "        [4, 5, 6],\n",
      "        [7, 8, 9]])\n",
      "x's size :  torch.Size([3, 3])\n",
      "x's shape :  torch.Size([3, 3])\n",
      "x's 랭크(차원) :  2\n"
     ]
    }
   ],
   "source": [
    "# squeeze() 함수를 사용하면 텐서의 랭크 중 크기가 1인 랭크를 삭제하여 다시 랭크 2 텐서로 되돌리 수 있다.\n",
    "x = torch.squeeze(x)\n",
    "print(x)\n",
    "print(\"x's size : \", x.size())\n",
    "print(\"x's shape : \", x.shape)\n",
    "print(\"x's 랭크(차원) : \", x.ndimension())"
   ]
  },
  {
   "cell_type": "markdown",
   "metadata": {},
   "source": [
    "view() 함수를 이용하면 이와 같은 작업을 더 쉽게 할 수 있을 뿐 아니라, 직접 텐서의 모양을 바꿀 수 있다."
   ]
  },
  {
   "cell_type": "code",
   "execution_count": 6,
   "metadata": {},
   "outputs": [
    {
     "name": "stdout",
     "output_type": "stream",
     "text": [
      "tensor([1, 2, 3, 4, 5, 6, 7, 8, 9])\n",
      "x's size :  torch.Size([9])\n",
      "x's shape :  torch.Size([9])\n",
      "x's 랭크(차원) :  1\n"
     ]
    }
   ],
   "source": [
    "# 랭크2의 [3,3] 모양인 x를 랭크 1의 [9] 모양으로 바꿔보자.\n",
    "x = x.view(9)\n",
    "print(x)\n",
    "print(\"x's size : \", x.size())\n",
    "print(\"x's shape : \", x.shape)\n",
    "print(\"x's 랭크(차원) : \", x.ndimension())"
   ]
  },
  {
   "cell_type": "markdown",
   "metadata": {},
   "source": [
    "이처럼 squeeze(), unsqueeze(), view() 함수는 텐서의 원소 수를 그대로 유지하면서 모양과 차원을 조절한다. 이 말은 view() 함수로는 텐서의 원소 개수를 바꿀 수 없다는 뜻이다. 예를 들어 view() 함수를 이용해 x의 모양이 [2,4]가 되도록 시도하면 에러가 발생한다."
   ]
  },
  {
   "cell_type": "code",
   "execution_count": 7,
   "metadata": {},
   "outputs": [
    {
     "name": "stdout",
     "output_type": "stream",
     "text": [
      "shape '[2, 4]' is invalid for input of size 9\n"
     ]
    }
   ],
   "source": [
    "try : \n",
    "    x = x.view(2,4)\n",
    "except Exception as e : \n",
    "    print(e)"
   ]
  },
  {
   "cell_type": "markdown",
   "metadata": {},
   "source": [
    "즉, 원소가 9개인 텐서를 2 x 4 인 원소가 8개인 텐서로는 바꿀 수 없다."
   ]
  },
  {
   "cell_type": "markdown",
   "metadata": {},
   "source": [
    "## 3.1.2 텐서를 이용한 연산과 행렬곱"
   ]
  },
  {
   "cell_type": "markdown",
   "metadata": {},
   "source": [
    "기본적으로 행렬과 행렬곱 개념은 모든 딥러닝 알고리즘에 사용되므로 꼭 알아두면 좋다. 앞에서 본 것과 같이 행렬은 랭크 2 텐서와 같은 개념이고, 숫자들을 네모꼴로 배치한 2차원 배열이다. 행렬의 높이를 \"행\", 너비를 \"열\" 이라고 한다. 만약 A,B 라는 두 행렬로 행렬곱을 하려면 다음 조건이 성립해야 한다.\n",
    "\n",
    "**- A의 열 수와 B의 행 수는 같아야 한다.**\n",
    "\n",
    "**- 행렬곱 A $ \\cdot $ B의 결과 행렬의 행 개수는 A와 같고, 열의 개수는 B와 같다.**"
   ]
  },
  {
   "cell_type": "markdown",
   "metadata": {},
   "source": [
    "![행렬곱](./Image/figure11.png)"
   ]
  },
  {
   "cell_type": "markdown",
   "metadata": {},
   "source": [
    "파이토치를 이용해 행렬곱을 구현해 보자.\n",
    "\n",
    "**-행렬곱에 사용될 두 행렬-**\n",
    "\n",
    "\n",
    "**1.행렬 W** : 정규분포에서 무작위로 값을 뽑아 텐서를 생성하는 randn() 함수에서 5와 3을 인수로 전달하여 5x3의 shape를 가진 텐서를 만든다. 처음 두 인수는 행과 열의 개수이고, 세 번째 인수는 값의 타입이다. 무작위로 값을 뽑을 때 실수의 범위 내에서 뽑도록 randn() 함수의 인수 dtype에 torch.float를 지정한다.\n",
    "\n",
    "**2.행렬 W** : 직접 실수형 원소들을 넣어 3x3의 shape를 가진 텐서를 정의한다."
   ]
  },
  {
   "cell_type": "code",
   "execution_count": 8,
   "metadata": {},
   "outputs": [
    {
     "name": "stdout",
     "output_type": "stream",
     "text": [
      "w size :  torch.Size([5, 3])\n",
      "x size :  torch.Size([3, 2])\n",
      "w : \n",
      " tensor([[ 0.9430, -1.5767,  1.0463],\n",
      "        [ 0.7032,  2.0591, -1.3959],\n",
      "        [-1.2295, -0.6958,  0.3169],\n",
      "        [-0.4376,  3.2490,  0.6257],\n",
      "        [ 0.3616, -1.5587,  1.0660]])\n",
      "x : \n",
      " tensor([[1., 2.],\n",
      "        [3., 4.],\n",
      "        [5., 6.]])\n"
     ]
    }
   ],
   "source": [
    "import torch\n",
    "\n",
    "w = torch.randn(5, 3, dtype=torch.float)\n",
    "x = torch.tensor([[1.0,2.0], [3.0,4.0], [5.0,6.0]])\n",
    "\n",
    "print(\"w size : \", w.size())\n",
    "print(\"x size : \", x.size())\n",
    "print(\"w : \\n\", w)\n",
    "print(\"x : \\n\", x)"
   ]
  },
  {
   "cell_type": "markdown",
   "metadata": {},
   "source": [
    "행렬곱 외에도 다른 행렬 연산에 쓰일 b라는 텐서도 정의해 보자."
   ]
  },
  {
   "cell_type": "code",
   "execution_count": 9,
   "metadata": {},
   "outputs": [
    {
     "name": "stdout",
     "output_type": "stream",
     "text": [
      "b size :  torch.Size([5, 2])\n",
      "b : \n",
      " tensor([[ 0.8662,  0.5857],\n",
      "        [ 0.4987,  0.2999],\n",
      "        [ 1.4324,  2.3690],\n",
      "        [-0.4454,  0.9763],\n",
      "        [ 0.3514, -1.5007]])\n"
     ]
    }
   ],
   "source": [
    "b = torch.randn(5, 2, dtype=torch.float)\n",
    "print(\"b size : \", b.size())\n",
    "print(\"b : \\n\", b)"
   ]
  },
  {
   "cell_type": "markdown",
   "metadata": {},
   "source": [
    "행렬곱은 torch.mm() 함수를 사용해 수행한다."
   ]
  },
  {
   "cell_type": "code",
   "execution_count": 10,
   "metadata": {},
   "outputs": [
    {
     "name": "stdout",
     "output_type": "stream",
     "text": [
      "wx size :  torch.Size([5, 2])\n",
      "wx : \n",
      " tensor([[ 1.4446,  1.8573],\n",
      "        [-0.0989,  1.2675],\n",
      "        [-1.7325, -3.3409],\n",
      "        [12.4380, 15.8751],\n",
      "        [ 1.0156,  0.8845]])\n"
     ]
    }
   ],
   "source": [
    "wx = torch.mm(w,x)\n",
    "print(\"wx size : \", wx.size())\n",
    "print(\"wx : \\n\", wx)"
   ]
  },
  {
   "cell_type": "markdown",
   "metadata": {},
   "source": [
    "wx 행렬의 원소에 b행렬의 원소를 더해보자."
   ]
  },
  {
   "cell_type": "code",
   "execution_count": 11,
   "metadata": {},
   "outputs": [
    {
     "name": "stdout",
     "output_type": "stream",
     "text": [
      "result size :  torch.Size([5, 2])\n",
      "result : \n",
      " tensor([[ 2.3108,  2.4430],\n",
      "        [ 0.3998,  1.5674],\n",
      "        [-0.3001, -0.9719],\n",
      "        [11.9926, 16.8514],\n",
      "        [ 1.3670, -0.6162]])\n"
     ]
    }
   ],
   "source": [
    "result = wx + b\n",
    "print(\"result size : \", result.size())\n",
    "print(\"result : \\n\", result)"
   ]
  },
  {
   "cell_type": "markdown",
   "metadata": {},
   "source": [
    "## 3.1.3 Autograd"
   ]
  },
  {
   "cell_type": "markdown",
   "metadata": {},
   "source": [
    "Autograd를 직역하면 \"자동 기울기\" 정도가 된다. 말 그대로 수식의 기울기를 자동으로 계산한다는 뜻이지만, 왜 이러한 계산이 머신러닝이나 딥러닝에 관련이 있을까? 이것을 이해하기에 앞서 머신러닝의 일반적인 학습 방법에 대한 이해가 필요하다."
   ]
  },
  {
   "cell_type": "markdown",
   "metadata": {},
   "source": [
    "앞에서 보았듯이, 머신러닝 모델은 입력된 데이터를 기반으로 학습한다. 아직 충분한 데이터를 보지 못해서 학습이 끝나지 않은 ㅇ모델은 정답이 아닌 결과를 출력할 가능성이 크다. 이처럼 데이터에 대한 정답(ground-truth)과 머신러닝 모델이 예측한 결과의 차이를 산술적으로 표현한 것을 거리(distance)라고 한다. 그리고 학습 데이터로 계산한 거리들의 평균을 오차(loss)라고 일컫는다. 즉, 오차가 작은 머신러닝 모델일수록 주어진 데이터에 대해 더 정확한 답을 낸다고 볼 수 있다."
   ]
  },
  {
   "cell_type": "markdown",
   "metadata": {},
   "source": [
    "오차를 최소화하는데는 여러 알고리즘들이 쓰이지만, 가장 유명하고 많이 쓰이는 알고리즘은 경사하강법(Gradient Descent)이다. 경사하강법이란, 오차를 수학 함수로 표현한 후 미분하여 이 함수의 기울기(Gradient)를 구해 오차의 최솟값이 있는 방향을 찾아내는 알고리즘이다. 복잡하지 않은 모델에서의 경사하강법은 넘파이 같은 라이브러리만 사용해서 직접 구현할 수 있지만, 복잡한 인공 신경망 모델에서는 어렵고 머리 아픈 계산을 여러번 해줘야한다."
   ]
  },
  {
   "cell_type": "markdown",
   "metadata": {},
   "source": [
    "![경사하강법](./Image/figure12.jpg)"
   ]
  },
  {
   "cell_type": "markdown",
   "metadata": {},
   "source": [
    "다행히 파이토치의 Autograd는 미분 계산을 자동화하여 경사하강법을 구현하는 수고를 덜어준다."
   ]
  },
  {
   "cell_type": "code",
   "execution_count": 12,
   "metadata": {},
   "outputs": [],
   "source": [
    "# 1. r값이 1.0인 스칼라 텐서 w를 정의하고, 수식을 w에 대해 미분하여 기울기를 계산.\n",
    "# w의 requires_grad를 True로 설정하면, 파이토치의 Autograd 기능이 자동으로 계산할 때 w에 대한 미분 값을 w.grad에 저장한다.\n",
    "\n",
    "w = torch.tensor(1.0, requires_grad = True)\n",
    "\n",
    "a = w * 3\n",
    "l = a ** 2"
   ]
  },
  {
   "cell_type": "markdown",
   "metadata": {},
   "source": [
    "$$l = a^2 = (3w)^2 = 9w^2$$"
   ]
  },
  {
   "cell_type": "markdown",
   "metadata": {},
   "source": [
    "이제 l를 w로 미분하려면 연쇄법칙(chain rule)을 이용하여 a와 w로 차례대로 미분해야한다. backward() 함수를 사용하면 된다."
   ]
  },
  {
   "cell_type": "code",
   "execution_count": 13,
   "metadata": {},
   "outputs": [
    {
     "name": "stdout",
     "output_type": "stream",
     "text": [
      "l을 w로 미분한 값 : 18.0\n"
     ]
    }
   ],
   "source": [
    "l.backward()\n",
    "print(\"l을 w로 미분한 값 : {}\" .format(w.grad))"
   ]
  },
  {
   "cell_type": "markdown",
   "metadata": {},
   "source": [
    "# 3.2 경사하강법으로 이미지 복원하기"
   ]
  },
  {
   "cell_type": "markdown",
   "metadata": {},
   "source": [
    "일반적으로 파이토치는 대부분의 학습과 최적화 알고리즘을 제공해주지만, 이번 예제에선 파이토치의 도움을 살짝 배제하고 머신러닝에 기초 중 하나인 최적화를 직접 구현하게 된다."
   ]
  },
  {
   "cell_type": "markdown",
   "metadata": {},
   "source": [
    "## 3.2.1 오염된 이미지 문제 "
   ]
  },
  {
   "cell_type": "markdown",
   "metadata": {},
   "source": [
    "이번에 풀 문제는 다음과 같다. 이미지 처리를 위해 만들어 두었던 weird_function() 함수에 실수로 버그가 들어가 100x100 픽셀의 오염된 이미지가 만들어졌다. 이 오염된 이미지와 오염되기 전 이미지를 동시에 파일로 저장하려고 했으나, 모종의 이유로 원본 이미지 파일은 삭제된 상황이다. 다행히도 weird_function() 함수의 소스코드는 남아 있다. 오염된 이미지와 weird_function() 함수를 활용해 원본 이미지를 복원해보자."
   ]
  },
  {
   "cell_type": "markdown",
   "metadata": {},
   "source": [
    "## 3.2.2 오염된 이미지를 복원하는 방법"
   ]
  },
  {
   "cell_type": "markdown",
   "metadata": {},
   "source": [
    "대부분의 프로그래머는 다음과 같이 문제에 접근할 것이다.\n",
    "\n",
    "1. weird_function() 함수의 소스코드를 분석한다.\n",
    "2. 분석을 토대로 weird_function() 함수의 동작을 반대로 이행하는 함수를 구현한다.\n",
    "3. 2에서 구현한 함수에 오염된 이미지를 입력해서 복구된 이미지를 출력한다.\n",
    "\n",
    "꽤 합리적인 해결책이다. 하지만 weird_function() 함수의 모든 동작을 되돌리려면 모든 동작을 세밀하게 파악해야 하는데, 이는 코드에 관한 자세한 설명이나 사전지식이 없으면 시간이 오래 걸리는 까다로운 작업이다. 우리가 택할 해결책은 좀 더 머신러닝과 수학적 최적화에 가까운 방법이다."
   ]
  },
  {
   "cell_type": "markdown",
   "metadata": {},
   "source": [
    "다음과 같은 사고과정을 생각해보자.\n",
    "\n",
    "1. 오염된 이미지(broken_image)와 크기가 같은 랜덤 텐서(random_tensor)를 생성한다. (랜덤 텐서는 오염된 이미지와 크기가 같은 무작위 이미지 텐서를 의미한다.)\n",
    "2. 랜덤 텐서를 weird_function() 함수에 입력해 똑같이 오염된 이미지를 가설(hypothesis)이라고 부른다.\n",
    " - a.[사실] 원본 이미지가 weird_function() 함수에 입력되어 오염된 이미지를 출력했다.\n",
    " - b.[사실] 인위적으로 생성한 무작위 이미지가 weird_function() 함수에 입력되어 가설을 출력했다.\n",
    "3. 가설과 오염된 이미지가 같다면, 무작위 이미지와 원본 이미지도 같을 것이다.\n",
    "4. 그러므도 weird_function(random_tensor) = broken_image 관계가 성립하도록 만든다."
   ]
  },
  {
   "cell_type": "markdown",
   "metadata": {},
   "source": [
    "머신러닝 모델이 학습한다는 것은 모델이 출력한 결과값과 정답의 차이, 즉 오차가 최소화된다는 뜻이기도 한다. 이 문제에서 오차는 위에 언급한 \"가설\"과 원본 이미지가 weird_function() 함수를 통해 오염되기 전의 이미지(정답) 사이의 거리다. 이 오찻값이 최솟값이 되도록 랜덤 텐서(random_tensor)를 바꿔주는 것이 우리의 최종적인 목표다."
   ]
  },
  {
   "cell_type": "markdown",
   "metadata": {},
   "source": [
    "파이토치의 Autograd 패키지를 이용하면 오차를 출력하는 함수의 기울기(미분값)에 해당하는 값을 찾을 수 있다. 미분을 통해 구한 기울기의 반대방향으로 가면 오찻값이 줄어든다. 이것을 계속 반복하다 보면 오찻값이 최소가 되는데, 오찻값이 최소가 되었을 때는 랜덤 텐서는 오염되기 전의 이미지와 같아졌을 것이다. 이렇게 랜덤 텐서를 미분값의 반대 방향으로 조금씩 이동하면서 모델을 최적화하는 것이 경사하강법 알고리즘이다."
   ]
  },
  {
   "cell_type": "markdown",
   "metadata": {},
   "source": [
    "## 3.2.3 문제 해결과 코드 구현"
   ]
  },
  {
   "cell_type": "code",
   "execution_count": 14,
   "metadata": {},
   "outputs": [],
   "source": [
    "# 파이토치 라이브러리\n",
    "import torch\n",
    "\n",
    "# 오염된 이미지 파일을 로딩하는데 사용할 라이브러리\n",
    "# 피클은 파이썬 객체를 파일 형태로 저장할 때 쓰는 파이썬에서 제공하는 기본 패키지\n",
    "import pickle\n",
    "\n",
    "# 이미지를 출력하는 시각화 라이브러리\n",
    "import matplotlib.pyplot as plt"
   ]
  },
  {
   "cell_type": "code",
   "execution_count": 15,
   "metadata": {
    "scrolled": true
   },
   "outputs": [
    {
     "data": {
      "image/png": "[encoded data removed]",
      "text/plain": [
       "<Figure size 432x288 with 1 Axes>"
      ]
     },
     "metadata": {
      "needs_background": "light"
     },
     "output_type": "display_data"
    }
   ],
   "source": [
    "broken_image = torch.FloatTensor(pickle.load(open(\"./image/broken_image_t.p\", \"rb\"), encoding=\"latin1\"))\n",
    "plt.imshow(broken_image.view(100,100))\n",
    "plt.title(\"Broken Image\")\n",
    "plt.show()"
   ]
  },
  {
   "cell_type": "markdown",
   "metadata": {},
   "source": [
    "다음은 이미지를 오염시키는 weird_function() 함수의 코드이다. 코드가 복잡해보이지만 이를 이해할 필요는 없다. 아래의 코드를 이해하고 반대로 실행시키기보다는 머신러닝을 이용하여 복원할 것이기 때문이다."
   ]
  },
  {
   "cell_type": "code",
   "execution_count": 16,
   "metadata": {},
   "outputs": [],
   "source": [
    "# weird_function()\n",
    "\n",
    "def weird_function(x, n_iter=5) : \n",
    "    \n",
    "    h = x\n",
    "    filt = torch.tensor([-1./3, 1./3, -1./3])\n",
    "    \n",
    "    for i in range(n_iter) : \n",
    "        \n",
    "        zero_tensor = torch.tensor([1.0 * 0])\n",
    "        h_l = torch.cat((zero_tensor, h[:-1]), 0)\n",
    "        h_r = torch.cat((h[1:], zero_tensor), 0)\n",
    "        h = filt[0] * h + filt[2] * h_l + filt[1] * h_r\n",
    "        \n",
    "        if i % 2 == 0 : \n",
    "            h = torch.cat((h[h.shape[0]//2:], h[:h.shape[0]//2]), 0)\n",
    "    \n",
    "    return h"
   ]
  },
  {
   "cell_type": "markdown",
   "metadata": {},
   "source": [
    "다음으로 무작위 텐서(random_tensor)를 weird_function() 함수에 입력해 얻은 가설(hypothesis) 텐서와 오염된 이미지 사이의 오차를 구하는 함수를 구현한다."
   ]
  },
  {
   "cell_type": "code",
   "execution_count": 17,
   "metadata": {},
   "outputs": [],
   "source": [
    "def distance_loss(hypothesis, broken_image) : \n",
    "    \n",
    "    dist = torch.dist(hypothesis, broken_image)\n",
    "    \n",
    "    return dist"
   ]
  },
  {
   "cell_type": "markdown",
   "metadata": {},
   "source": [
    "다음으로 무작위 값을 가진 텐서를 생성한다. 이 텐서는 경사하강법을 통해 언젠가는 우너본 이미지의 형상을 하게 될 것이다. 이 무작위 텐서 역시 image와 같은 모양과 랭크를 지녀야 한다. 즉, [100,100] 모양의 행렬이 [10000] 모양의 벡터로 표현된 텐서이다."
   ]
  },
  {
   "cell_type": "code",
   "execution_count": 18,
   "metadata": {},
   "outputs": [],
   "source": [
    "random_tensor = torch.randn(10000, dtype=torch.float)"
   ]
  },
  {
   "cell_type": "markdown",
   "metadata": {},
   "source": [
    "경사하강법은 여러 번 반복해서 이뤄진다. 이 때 한 반복에서 최솟점으로 얼마나 많이 이동하는지, 즉 학습을 얼마나 급하게 진행하는가를 정하는 매개변수를 학습률(learning rate)라고 한다."
   ]
  },
  {
   "cell_type": "code",
   "execution_count": 19,
   "metadata": {},
   "outputs": [],
   "source": [
    "lr = 0.8"
   ]
  },
  {
   "cell_type": "markdown",
   "metadata": {},
   "source": [
    "![학습률](./Image/figure13.jpg)"
   ]
  },
  {
   "cell_type": "markdown",
   "metadata": {},
   "source": [
    "학습률이 너무 크면 오차 함수가 최솟점을 찾지 못하고 지나치게 되고, 값이 너무 작으면 학습속도가 느려진다. 따라서 적당한 값의 학습률을 찾는 것이 중요하다."
   ]
  },
  {
   "cell_type": "markdown",
   "metadata": {},
   "source": [
    "이제 준비는 모두 끝났으니 경사하강법의 몸체인 for 반복문을 구현하면 다음과 같다."
   ]
  },
  {
   "cell_type": "code",
   "execution_count": 20,
   "metadata": {
    "scrolled": false
   },
   "outputs": [
    {
     "name": "stdout",
     "output_type": "stream",
     "text": [
      "Loss as 0 = 12.085006713867188\n",
      "Loss as 1000 = 1.1514477729797363\n",
      "Loss as 2000 = 0.548633873462677\n",
      "Loss as 3000 = 0.37947964668273926\n",
      "Loss as 4000 = 0.29870977997779846\n",
      "Loss as 5000 = 0.24885649979114532\n",
      "Loss as 6000 = 0.21336683630943298\n",
      "Loss as 7000 = 0.1855759620666504\n",
      "Loss as 8000 = 0.162284716963768\n",
      "Loss as 9000 = 0.1417914777994156\n",
      "Loss as 10000 = 0.12313103675842285\n",
      "Loss as 11000 = 0.10572876036167145\n",
      "Loss as 12000 = 0.08922822028398514\n",
      "Loss as 13000 = 0.07339943200349808\n",
      "Loss as 14000 = 0.058088887482881546\n",
      "Loss as 15000 = 0.04319128021597862\n",
      "Loss as 16000 = 0.02863376773893833\n",
      "Loss as 17000 = 0.021155662834644318\n",
      "Loss as 18000 = 0.02116590365767479\n",
      "Loss as 19000 = 0.021167637780308723\n"
     ]
    },
    {
     "data": {
      "image/png": "[encoded data removed]",
      "text/plain": [
       "<Figure size 432x288 with 1 Axes>"
      ]
     },
     "metadata": {
      "needs_background": "light"
     },
     "output_type": "display_data"
    }
   ],
   "source": [
    "for i in range(0,20000) : \n",
    "    random_tensor.requires_grad_(True)\n",
    "    \n",
    "    # 무작위 텐서(random_tensor)를 weird_function() 함수에 통과시켜 가설(hypothesis)을 구한다.\n",
    "    hypothesis = weird_function(random_tensor)\n",
    "\n",
    "    # 앞에서 정의한 distance_loss() 함수에 hypothesis와 broken_image를 입력해 오차를 계산한다.\n",
    "    loss = distance_loss(hypothesis, broken_image)\n",
    "\n",
    "    # loss, backward() 함수를 호출해 loss를 random_tensor로 미분한다.\n",
    "    loss.backward()\n",
    "    \n",
    "    # 파이토치는 신경망 모델 속 변수들이 지나가는 길인 그래프를 생성한다. \n",
    "    # 이번 예제에서는 직접 경사하강법을 구현하기 때문에 \n",
    "    # torch.no_grad() 함수를 이용해 파이토치의 자동 기울기 계산을 비활성화해야한다.\n",
    "    with torch.no_grad() :\n",
    "        \n",
    "        # 이제 경사하강법의 핵심 동작을 코딩한다. \n",
    "        # random_tensor.grad에는 loss.backward() 함수에서 계산한 loss의 기울기, 즉 loss가 최댓점이 되는 곳의 방향이 들어있다. \n",
    "        # 이 방향의 반대쪽으로 random_tensor를 학습률(lr)만큼 이동시킨다.\n",
    "        random_tensor = random_tensor - lr * random_tensor.grad\n",
    "    \n",
    "    # 1,000번째 마다 오차를 출력한다.\n",
    "    if i % 1000 == 0 : \n",
    "        print(\"Loss as {} = {}\". format(i, loss.item()))\n",
    "        \n",
    "# 복원된 이미지를 확인한다.\n",
    "plt.imshow(random_tensor.view(100,100).data)\n",
    "plt.show()"
   ]
  },
  {
   "cell_type": "markdown",
   "metadata": {},
   "source": [
    "만약, 500번만 반복한다면 제대로 복원할 수 있을까? 아래는 다시 랜덤 테서를 초기화 시키고, 5,000번만 반복했을 때의 결과이다. 위의 복원 결과와는 다르게 아직 완벽하게 복원되지 않은 것을 알 수 있다."
   ]
  },
  {
   "cell_type": "code",
   "execution_count": 21,
   "metadata": {},
   "outputs": [
    {
     "name": "stdout",
     "output_type": "stream",
     "text": [
      "Loss as 0 = 12.538063049316406\n",
      "Loss as 1000 = 1.1557658910751343\n",
      "Loss as 2000 = 0.543705940246582\n",
      "Loss as 3000 = 0.3754007816314697\n",
      "Loss as 4000 = 0.294353723526001\n"
     ]
    },
    {
     "data": {
      "image/png": "[encoded data removed]",
      "text/plain": [
       "<Figure size 432x288 with 1 Axes>"
      ]
     },
     "metadata": {
      "needs_background": "light"
     },
     "output_type": "display_data"
    }
   ],
   "source": [
    "random_tensor = torch.randn(10000, dtype=torch.float)\n",
    "lr = 0.8\n",
    "\n",
    "for i in range(0,5000) : \n",
    "    random_tensor.requires_grad_(True)\n",
    "    \n",
    "    # 무작위 텐서(random_tensor)를 weird_function() 함수에 통과시켜 가설(hypothesis)을 구한다.\n",
    "    hypothesis = weird_function(random_tensor)\n",
    "\n",
    "    # 앞에서 정의한 distance_loss() 함수에 hypothesis와 broken_image를 입력해 오차를 계산한다.\n",
    "    loss = distance_loss(hypothesis, broken_image)\n",
    "\n",
    "    # loss, backward() 함수를 호출해 loss를 random_tensor로 미분한다.\n",
    "    loss.backward()\n",
    "    \n",
    "    # 파이토치는 신경망 모델 속 변수들이 지나가는 길인 그래프를 생성한다. \n",
    "    # 이번 예제에서는 직접 경사하강법을 구현하기 때문에 \n",
    "    # torch.no_grad() 함수를 이용해 파이토치의 자동 기울기 계산을 비활성화해야한다.\n",
    "    with torch.no_grad() :\n",
    "        \n",
    "        # 이제 경사하강법의 핵심 동작을 코딩한다. \n",
    "        # random_tensor.grad에는 loss.backward() 함수에서 계산한 loss의 기울기, 즉 loss가 최댓점이 되는 곳의 방향이 들어있다. \n",
    "        # 이 방향의 반대쪽으로 random_tensor를 학습률(lr)만큼 이동시킨다.\n",
    "        random_tensor = random_tensor - lr * random_tensor.grad\n",
    "    \n",
    "    # 1,000번째 마다 오차를 출력한다.\n",
    "    if i % 1000 == 0 : \n",
    "        print(\"Loss as {} = {}\". format(i, loss.item()))\n",
    "        \n",
    "# 복원된 이미지를 확인한다.\n",
    "plt.imshow(random_tensor.view(100,100).data)\n",
    "plt.show()"
   ]
  },
  {
   "cell_type": "markdown",
   "metadata": {},
   "source": [
    "경사하강법을 좀 더 구체적으로 알아보기 위해 이번에는 파이토치의 편의성을 다소 배제하였다. 머신러닝과 딥러닝에 대한 안목을 키우는 데는 이렇게 살짝 귀찮은 방법으로 코딩해보는 것도 좋은 공부법이라고 생각한다."
   ]
  },
  {
   "cell_type": "markdown",
   "metadata": {},
   "source": [
    "# 3.3 신경망 모델 구현하기"
   ]
  },
  {
   "cell_type": "markdown",
   "metadata": {},
   "source": [
    "## 3.3.1 인공신경망(ANN)"
   ]
  },
  {
   "cell_type": "code",
   "execution_count": null,
   "metadata": {},
   "outputs": [],
   "source": []
  },
  {
   "cell_type": "code",
   "execution_count": null,
   "metadata": {},
   "outputs": [],
   "source": []
  },
  {
   "cell_type": "code",
   "execution_count": null,
   "metadata": {},
   "outputs": [],
   "source": []
  },
  {
   "cell_type": "code",
   "execution_count": null,
   "metadata": {},
   "outputs": [],
   "source": []
  }
 ],
 "metadata": {
  "kernelspec": {
   "display_name": "Python 3",
   "language": "python",
   "name": "python3"
  },
  "language_info": {
   "codemirror_mode": {
    "name": "ipython",
    "version": 3
   },
   "file_extension": ".py",
   "mimetype": "text/x-python",
   "name": "python",
   "nbconvert_exporter": "python",
   "pygments_lexer": "ipython3",
   "version": "3.6.7"
  }
 },
 "nbformat": 4,
 "nbformat_minor": 2
}
