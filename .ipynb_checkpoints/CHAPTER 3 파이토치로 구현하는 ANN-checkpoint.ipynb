{
 "cells": [
  {
   "cell_type": "markdown",
   "metadata": {},
   "source": [
    "# 3.1 텐서와 Autograd"
   ]
  },
  {
   "cell_type": "markdown",
   "metadata": {},
   "source": [
    "## 3.1.1 텐서의 차원 자유자재로 다루기"
   ]
  },
  {
   "cell_type": "code",
   "execution_count": 1,
   "metadata": {},
   "outputs": [],
   "source": [
    "# Pytorch 임포트\n",
    "import torch"
   ]
  },
  {
   "cell_type": "markdown",
   "metadata": {},
   "source": [
    "**텐서** 는 파이토치에서 다양한 수식을 계산하는데 가장 기본적인 자료구조이다. 수학의 벡터나 행렬을 일반화한 개념으로서, 숫자들을 특정한 모양으로 배열한 것이다. 텐서에는 **\"차원\"** 또는 **\"랭크(rank)\"** 라는 개념이 있다. 예를 들어 랭크가 0이면 숫자가 하나인 스칼라(Scalar), 랭크 1 텐서는 일렬로 숫자를 나열한 벡터(Vector), 랭크 2 텐서는 2차원 행렬(Matrix), 랭크 3 텐서는 정육면체 같은 3차원 행렬이다. 3차원 이상은 랭크 n 텐서라고 부른다.\n",
    "\n",
    "\n",
    "- 1 ->  스칼라, []\n",
    "- [1,2,3] ->  벡터, [3]\n",
    "- [[1,2,3,]] ->  행렬, [1,3]\n",
    "- [[[1,2,3]]] ->  n랭크 텐서, [1,1,3]"
   ]
  },
  {
   "cell_type": "markdown",
   "metadata": {},
   "source": [
    "![파이토치 설정](./Image/figure10.png)"
   ]
  },
  {
   "cell_type": "markdown",
   "metadata": {},
   "source": [
    "위와 같은 모양의 텐서를 만들려면 코드를 다음과 같이 짜면 된다."
   ]
  },
  {
   "cell_type": "code",
   "execution_count": 2,
   "metadata": {},
   "outputs": [
    {
     "name": "stdout",
     "output_type": "stream",
     "text": [
      "tensor([[1, 2, 3],\n",
      "        [4, 5, 6],\n",
      "        [7, 8, 9]])\n"
     ]
    }
   ],
   "source": [
    "x = torch.tensor([[1,2,3],[4,5,6],[7,8,9]])\n",
    "print(x)"
   ]
  },
  {
   "cell_type": "markdown",
   "metadata": {},
   "source": [
    "만들어진 텐서의 구체적인 형태는 size() 함수나 shape 키워드를 사용하면 확인할 수 있다. 단순히 텐서의 랭크를 확인하려면 ndimension() 함수를 사용하면 된다."
   ]
  },
  {
   "cell_type": "code",
   "execution_count": 3,
   "metadata": {},
   "outputs": [
    {
     "name": "stdout",
     "output_type": "stream",
     "text": [
      "x's size :  torch.Size([3, 3])\n",
      "x's shape :  torch.Size([3, 3])\n",
      "x's 랭크(차원) :  2\n"
     ]
    }
   ],
   "source": [
    "x = torch.tensor([[1,2,3],[4,5,6],[7,8,9]])\n",
    "print(\"x's size : \", x.size())\n",
    "print(\"x's shape : \", x.shape)\n",
    "print(\"x's 랭크(차원) : \", x.ndimension())"
   ]
  },
  {
   "cell_type": "markdown",
   "metadata": {},
   "source": [
    "unsqueeze(), squeeze(), view() 함수로 텐서의 랭크와 shape를 인위적으로 변경할 수도 있다."
   ]
  },
  {
   "cell_type": "code",
   "execution_count": 4,
   "metadata": {},
   "outputs": [
    {
     "name": "stdout",
     "output_type": "stream",
     "text": [
      "tensor([[[1, 2, 3],\n",
      "         [4, 5, 6],\n",
      "         [7, 8, 9]]])\n",
      "x's size :  torch.Size([1, 3, 3])\n",
      "x's shape :  torch.Size([1, 3, 3])\n",
      "x's 랭크(차원) :  3\n"
     ]
    }
   ],
   "source": [
    "# 랭크 늘리기\n",
    "x = torch.unsqueeze(x,0)\n",
    "print(x)\n",
    "print(\"x's size : \", x.size())\n",
    "print(\"x's shape : \", x.shape)\n",
    "print(\"x's 랭크(차원) : \", x.ndimension())"
   ]
  },
  {
   "cell_type": "code",
   "execution_count": 5,
   "metadata": {},
   "outputs": [
    {
     "name": "stdout",
     "output_type": "stream",
     "text": [
      "tensor([[1, 2, 3],\n",
      "        [4, 5, 6],\n",
      "        [7, 8, 9]])\n",
      "x's size :  torch.Size([3, 3])\n",
      "x's shape :  torch.Size([3, 3])\n",
      "x's 랭크(차원) :  2\n"
     ]
    }
   ],
   "source": [
    "# squeeze() 함수를 사용하면 텐서의 랭크 중 크기가 1인 랭크를 삭제하여 다시 랭크 2 텐서로 되돌리 수 있다.\n",
    "x = torch.squeeze(x)\n",
    "print(x)\n",
    "print(\"x's size : \", x.size())\n",
    "print(\"x's shape : \", x.shape)\n",
    "print(\"x's 랭크(차원) : \", x.ndimension())"
   ]
  },
  {
   "cell_type": "markdown",
   "metadata": {},
   "source": [
    "view() 함수를 이용하면 이와 같은 작업을 더 쉽게 할 수 있을 뿐 아니라, 직접 텐서의 모양을 바꿀 수 있다."
   ]
  },
  {
   "cell_type": "code",
   "execution_count": 6,
   "metadata": {},
   "outputs": [
    {
     "name": "stdout",
     "output_type": "stream",
     "text": [
      "tensor([1, 2, 3, 4, 5, 6, 7, 8, 9])\n",
      "x's size :  torch.Size([9])\n",
      "x's shape :  torch.Size([9])\n",
      "x's 랭크(차원) :  1\n"
     ]
    }
   ],
   "source": [
    "# 랭크2의 [3,3] 모양인 x를 랭크 1의 [9] 모양으로 바꿔보자.\n",
    "x = x.view(9)\n",
    "print(x)\n",
    "print(\"x's size : \", x.size())\n",
    "print(\"x's shape : \", x.shape)\n",
    "print(\"x's 랭크(차원) : \", x.ndimension())"
   ]
  },
  {
   "cell_type": "markdown",
   "metadata": {},
   "source": [
    "이처럼 squeeze(), unsqueeze(), view() 함수는 텐서의 원소 수를 그대로 유지하면서 모양과 차원을 조절한다. 이 말은 view() 함수로는 텐서의 원소 개수를 바꿀 수 없다는 뜻이다. 예를 들어 view() 함수를 이용해 x의 모양이 [2,4]가 되도록 시도하면 에러가 발생한다."
   ]
  },
  {
   "cell_type": "code",
   "execution_count": 7,
   "metadata": {},
   "outputs": [
    {
     "name": "stdout",
     "output_type": "stream",
     "text": [
      "shape '[2, 4]' is invalid for input of size 9\n"
     ]
    }
   ],
   "source": [
    "try : \n",
    "    x = x.view(2,4)\n",
    "except Exception as e : \n",
    "    print(e)"
   ]
  },
  {
   "cell_type": "markdown",
   "metadata": {},
   "source": [
    "즉, 원소가 9개인 텐서를 2 x 4 인 원소가 8개인 텐서로는 바꿀 수 없다."
   ]
  },
  {
   "cell_type": "markdown",
   "metadata": {},
   "source": [
    "## 3.1.2 텐서를 이용한 연산과 행렬곱"
   ]
  },
  {
   "cell_type": "markdown",
   "metadata": {},
   "source": [
    "기본적으로 행렬과 행렬곱 개념은 모든 딥러닝 알고리즘에 사용되므로 꼭 알아두면 좋다. 앞에서 본 것과 같이 행렬은 랭크 2 텐서와 같은 개념이고, 숫자들을 네모꼴로 배치한 2차원 배열이다. 행렬의 높이를 \"행\", 너비를 \"열\" 이라고 한다. 만약 A,B 라는 두 행렬로 행렬곱을 하려면 다음 조건이 성립해야 한다.\n",
    "\n",
    "**1. A의 열 수와 B의 행 수는 같아야 한다.**\n",
    "\n",
    "**2. 행렬곱 A $ \\cdot $ B의 결과 행렬의 행 개수는 A와 같고, 열의 개수는 B와 같다.**"
   ]
  },
  {
   "cell_type": "markdown",
   "metadata": {},
   "source": [
    "![행렬곱](./Image/figure11.png)"
   ]
  },
  {
   "cell_type": "markdown",
   "metadata": {},
   "source": [
    "파이토치를 이용해 행렬곱을 구현해 보자.\n",
    "\n",
    "**-행렬곱에 사용될 두 행렬-**\n",
    "\n",
    "\n",
    "**1.행렬 W** : 정규분포에서 무작위로 값을 뽑아 텐서를 생성하는 randn() 함수에서 5와 3을 인수로 전달하여 5x3의 shape를 가진 텐서를 만든다. 처음 두 인수는 행과 열의 개수이고, 세 번째 인수는 값의 타입이다. 무작위로 값을 뽑을 때 실수의 범위 내에서 뽑도록 randn() 함수의 인수 dtype에 torch.float를 지정한다.\n",
    "\n",
    "**2.행렬 W** : 직접 실수형 원소들을 넣어 3x3의 shape를 가진 텐서를 정의한다."
   ]
  },
  {
   "cell_type": "code",
   "execution_count": 8,
   "metadata": {},
   "outputs": [
    {
     "name": "stdout",
     "output_type": "stream",
     "text": [
      "w size :  torch.Size([5, 3])\n",
      "x size :  torch.Size([3, 2])\n",
      "w : \n",
      " tensor([[ 0.1013,  0.1871,  0.1151],\n",
      "        [-0.0588, -3.4321,  1.3104],\n",
      "        [ 1.0531,  0.4581, -0.8443],\n",
      "        [ 0.2565, -0.4727, -1.2345],\n",
      "        [ 0.7245,  0.2661, -0.7325]])\n",
      "x : \n",
      " tensor([[1., 2.],\n",
      "        [3., 4.],\n",
      "        [5., 6.]])\n"
     ]
    }
   ],
   "source": [
    "import torch\n",
    "\n",
    "w = torch.randn(5, 3, dtype=torch.float)\n",
    "x = torch.tensor([[1.0,2.0], [3.0,4.0], [5.0,6.0]])\n",
    "\n",
    "print(\"w size : \", w.size())\n",
    "print(\"x size : \", x.size())\n",
    "print(\"w : \\n\", w)\n",
    "print(\"x : \\n\", x)"
   ]
  },
  {
   "cell_type": "markdown",
   "metadata": {},
   "source": [
    "행렬곱 외에도 다른 행렬 연산에 쓰일 b라는 텐서도 정의해 보자."
   ]
  },
  {
   "cell_type": "code",
   "execution_count": 9,
   "metadata": {},
   "outputs": [
    {
     "name": "stdout",
     "output_type": "stream",
     "text": [
      "b size :  torch.Size([5, 2])\n",
      "b : \n",
      " tensor([[ 0.9091, -0.1378],\n",
      "        [ 0.6261, -0.5688],\n",
      "        [-0.3058,  0.4245],\n",
      "        [-0.0580, -0.6091],\n",
      "        [-0.0157,  1.0333]])\n"
     ]
    }
   ],
   "source": [
    "b = torch.randn(5, 2, dtype=torch.float)\n",
    "print(\"b size : \", b.size())\n",
    "print(\"b : \\n\", b)"
   ]
  },
  {
   "cell_type": "markdown",
   "metadata": {},
   "source": [
    "행렬곱은 torch.mm() 함수를 사용해 수행한다."
   ]
  },
  {
   "cell_type": "code",
   "execution_count": 10,
   "metadata": {},
   "outputs": [
    {
     "name": "stdout",
     "output_type": "stream",
     "text": [
      "wx size :  torch.Size([5, 2])\n",
      "wx : \n",
      " tensor([[ 1.2385,  1.6421],\n",
      "        [-3.8031, -5.9835],\n",
      "        [-1.7944, -1.1276],\n",
      "        [-7.3341, -8.7847],\n",
      "        [-2.1400, -1.8819]])\n"
     ]
    }
   ],
   "source": [
    "wx = torch.mm(w,x)\n",
    "print(\"wx size : \", wx.size())\n",
    "print(\"wx : \\n\", wx)"
   ]
  },
  {
   "cell_type": "markdown",
   "metadata": {},
   "source": [
    "wx 행렬의 원소에 b행렬의 원소를 더해보자."
   ]
  },
  {
   "cell_type": "code",
   "execution_count": 11,
   "metadata": {},
   "outputs": [
    {
     "name": "stdout",
     "output_type": "stream",
     "text": [
      "result size :  torch.Size([5, 2])\n",
      "result : \n",
      " tensor([[ 2.1475,  1.5043],\n",
      "        [-3.1769, -6.5523],\n",
      "        [-2.1002, -0.7031],\n",
      "        [-7.3921, -9.3938],\n",
      "        [-2.1557, -0.8486]])\n"
     ]
    }
   ],
   "source": [
    "result = wx + b\n",
    "print(\"result size : \", result.size())\n",
    "print(\"result : \\n\", result)"
   ]
  },
  {
   "cell_type": "markdown",
   "metadata": {},
   "source": [
    "## 3.1.3 Autograd"
   ]
  },
  {
   "cell_type": "markdown",
   "metadata": {},
   "source": [
    "Autograd를 직역하면 \"자동 기울기\" 정도가 된다. 말 그대로 수식의 기울기를 자동으로 계산한다는 뜻이지만, 왜 이러한 계산이 머신러닝이나 딥러닝에 관련이 있을까? 이것을 이해하기에 앞서 머신러닝의 일반적인 학습 방법에 대한 이해가 필요하다."
   ]
  },
  {
   "cell_type": "markdown",
   "metadata": {},
   "source": [
    "앞에서 보았듯이, 머신러닝 모델은 입력된 데이터를 기반으로 학습한다. 아직 충분한 데이터를 보지 못해서 학습이 끝나지 않은 ㅇ모델은 정답이 아닌 결과를 출력할 가능성이 크다. 이처럼 데이터에 대한 정답(ground-truth)과 머신러닝 모델이 예측한 결과의 차이를 산술적으로 표현한 것을 거리(distance)라고 한다. 그리고 학습 데이터로 계산한 거리들의 평균을 오차(loss)라고 일컫는다. 즉, 오차가 작은 머신러닝 모델일수록 주어진 데이터에 대해 더 정확한 답을 낸다고 볼 수 있다."
   ]
  },
  {
   "cell_type": "markdown",
   "metadata": {},
   "source": [
    "오차를 최소화하는데는 여러 알고리즘들이 쓰이지만, 가장 유명하고 많이 쓰이는 알고리즘은 경사하강법(Gradient Descent)이다. 경사하강법이란, 오차를 수학 함수로 표현한 후 미분하여 이 함수의 기울기(Gradient)를 구해 오차의 최솟값이 있는 방향을 찾아내는 알고리즘이다. 복잡하지 않은 모델에서의 경사하강법은 넘파이 같은 라이브러리만 사용해서 직접 구현할 수 있지만, 복잡한 인공 신경망 모델에서는 어렵고 머리 아픈 계산을 여러번 해줘야한다."
   ]
  },
  {
   "cell_type": "markdown",
   "metadata": {},
   "source": [
    "![경사하강법](./Image/figure12.jpg)"
   ]
  },
  {
   "cell_type": "markdown",
   "metadata": {},
   "source": [
    "다행히 파이토치의 Autograd는 미분 계산을 자동화하여 경사하강법을 구현하는 수고를 덜어준다."
   ]
  },
  {
   "cell_type": "code",
   "execution_count": 12,
   "metadata": {},
   "outputs": [],
   "source": [
    "# 1. r값이 1.0인 스칼라 텐서 w를 정의하고, 수식을 w에 대해 미분하여 기울기를 계산.\n",
    "# w의 requires_grad를 True로 설정하면, 파이토치의 Autograd 기능이 자동으로 계산할 때 w에 대한 미분 값을 w.grad에 저장한다.\n",
    "\n",
    "w = torch.tensor(1.0, requires_grad = True)\n",
    "\n",
    "a = w * 3\n",
    "l = a ** 2"
   ]
  },
  {
   "cell_type": "markdown",
   "metadata": {},
   "source": [
    "$$l = a^2 = (3w)^2 = 9w^2$$"
   ]
  },
  {
   "cell_type": "markdown",
   "metadata": {},
   "source": [
    "이제 l를 w로 미분하려면 연쇄법칙(chain rule)을 이용하여 a와 w로 차례대로 미분해야한다. backward() 함수를 사용하면 된다."
   ]
  },
  {
   "cell_type": "code",
   "execution_count": 13,
   "metadata": {},
   "outputs": [
    {
     "name": "stdout",
     "output_type": "stream",
     "text": [
      "l을 w로 미분한 값 : 18.0\n"
     ]
    }
   ],
   "source": [
    "l.backward()\n",
    "print(\"l을 w로 미분한 값 : {}\" .format(w.grad))"
   ]
  },
  {
   "cell_type": "markdown",
   "metadata": {},
   "source": [
    "# 3.2 경사하강법으로 이미지 복원하기"
   ]
  },
  {
   "cell_type": "markdown",
   "metadata": {},
   "source": [
    "일반적으로 파이토치는 대부분의 학습과 최적화 알고리즘을 제공해주지만, 이번 예제에선 파이토치의 도움을 살짝 배제하고 머신러닝에 기초 중 하나인 최적화를 직접 구현하게 된다."
   ]
  },
  {
   "cell_type": "markdown",
   "metadata": {},
   "source": [
    "## 3.2.1 오염된 이미지 문제 "
   ]
  },
  {
   "cell_type": "markdown",
   "metadata": {},
   "source": [
    "이번에 풀 문제는 다음과 같다. 이미지 처리를 위해 만들어 두었던 weird_function() 함수에 실수로 버그가 들어가 100x100 픽셀의 오염된 이미지가 만들어졌다. 이 오염된 이미지와 오염되기 전 이미지를 동시에 파일로 저장하려고 했으나, 모종의 이유로 원본 이미지 파일은 삭제된 상황이다. 다행히도 weird_function() 함수의 소스코드는 남아 있다. 오염된 이미지와 weird_function() 함수를 활용해 원본 이미지를 복원해보자."
   ]
  },
  {
   "cell_type": "markdown",
   "metadata": {},
   "source": [
    "## 3.2.2 오염된 이미지를 복원하는 방법"
   ]
  },
  {
   "cell_type": "markdown",
   "metadata": {},
   "source": [
    "대부분의 프로그래머는 다음과 같이 문제에 접근할 것이다.\n",
    "\n",
    "1. weird_function() 함수의 소스코드를 분석한다.\n",
    "2. 분석을 토대로 weird_function() 함수의 동작을 반대로 이행하는 함수를 구현한다.\n",
    "3. 2에서 구현한 함수에 오염된 이미지를 입력해서 복구된 이미지를 출력한다.\n",
    "\n",
    "꽤 합리적인 해결책이다. 하지만 weird_function() 함수의 모든 동작을 되돌리려면 모든 동작을 세밀하게 파악해야 하는데, 이는 코드에 관한 자세한 설명이나 사전지식이 없으면 시간이 오래 걸리는 까다로운 작업이다. 우리가 택할 해결책은 좀 더 머신러닝과 수학적 최적화에 가까운 방법이다."
   ]
  },
  {
   "cell_type": "markdown",
   "metadata": {},
   "source": [
    "다음과 같은 사고과정을 생각해보자.\n",
    "\n",
    "1. 오염된 이미지(broken_image)와 크기가 같은 랜덤 텐서(random_tensor)를 생성한다. (랜덤 텐서는 오염된 이미지와 크기가 같은 무작위 이미지 텐서를 의미한다.)\n",
    "2. 랜덤 텐서를 weird_function() 함수에 입력해 똑같이 오염된 이미지를 가설(hypothesis)이라고 부른다.\n",
    " - a.[사실] 원본 이미지가 weird_function() 함수에 입력되어 오염된 이미지를 출력했다.\n",
    " - b.[사실] 인위적으로 생성한 무작위 이미지가 weird_function() 함수에 입력되어 가설을 출력했다.\n",
    "3. 가설과 오염된 이미지가 같다면, 무작위 이미지와 원본 이미지도 같을 것이다.\n",
    "4. 그러므도 weird_function(random_tensor) = broken_image 관계가 성립하도록 만든다."
   ]
  },
  {
   "cell_type": "markdown",
   "metadata": {},
   "source": [
    "머신러닝 모델이 학습한다는 것은 모델이 출력한 결과값과 정답의 차이, 즉 오차가 최소화된다는 뜻이기도 한다. 이 문제에서 오차는 위에 언급한 \"가설\"과 원본 이미지가 weird_function() 함수를 통해 오염되기 전의 이미지(정답) 사이의 거리다. 이 오찻값이 최솟값이 되도록 랜덤 텐서(random_tensor)를 바꿔주는 것이 우리의 최종적인 목표다."
   ]
  },
  {
   "cell_type": "markdown",
   "metadata": {},
   "source": [
    "파이토치의 Autograd 패키지를 이용하면 오차를 출력하는 함수의 기울기(미분값)에 해당하는 값을 찾을 수 있다. 미분을 통해 구한 기울기의 반대방향으로 가면 오찻값이 줄어든다. 이것을 계속 반복하다 보면 오찻값이 최소가 되는데, 오찻값이 최소가 되었을 때는 랜덤 텐서는 오염되기 전의 이미지와 같아졌을 것이다. 이렇게 랜덤 텐서를 미분값의 반대 방향으로 조금씩 이동하면서 모델을 최적화하는 것이 경사하강법 알고리즘이다."
   ]
  },
  {
   "cell_type": "markdown",
   "metadata": {},
   "source": [
    "## 3.2.3 문제 해결과 코드 구현"
   ]
  },
  {
   "cell_type": "code",
   "execution_count": 14,
   "metadata": {},
   "outputs": [],
   "source": [
    "# 파이토치 라이브러리\n",
    "import torch\n",
    "\n",
    "# 오염된 이미지 파일을 로딩하는데 사용할 라이브러리\n",
    "# 피클은 파이썬 객체를 파일 형태로 저장할 때 쓰는 파이썬에서 제공하는 기본 패키지\n",
    "import pickle\n",
    "\n",
    "# 이미지를 출력하는 시각화 라이브러리\n",
    "import matplotlib.pyplot as plt"
   ]
  },
  {
   "cell_type": "code",
   "execution_count": 15,
   "metadata": {
    "scrolled": true
   },
   "outputs": [
    {
     "data": {
      "image/png": "[encoded data removed]",
      "text/plain": [
       "<Figure size 432x288 with 1 Axes>"
      ]
     },
     "metadata": {
      "needs_background": "light"
     },
     "output_type": "display_data"
    }
   ],
   "source": [
    "broken_image = torch.FloatTensor(pickle.load(open(\"./image/broken_image_t.p\", \"rb\"), encoding=\"latin1\"))\n",
    "plt.imshow(broken_image.view(100,100))\n",
    "plt.title(\"Broken Image\")\n",
    "plt.show()"
   ]
  },
  {
   "cell_type": "markdown",
   "metadata": {},
   "source": [
    "다음은 이미지를 오염시키는 weird_function() 함수의 코드이다. 코드가 복잡해보이지만 이를 이해할 필요는 없다. 아래의 코드를 이해하고 반대로 실행시키기보다는 머신러닝을 이용하여 복원할 것이기 때문이다."
   ]
  },
  {
   "cell_type": "code",
   "execution_count": 16,
   "metadata": {},
   "outputs": [],
   "source": [
    "# weird_function()\n",
    "\n",
    "def weird_function(x, n_iter=5) : \n",
    "    \n",
    "    h = x\n",
    "    filt = torch.tensor([-1./3, 1./3, -1./3])\n",
    "    \n",
    "    for i in range(n_iter) : \n",
    "        \n",
    "        zero_tensor = torch.tensor([1.0 * 0])\n",
    "        h_l = torch.cat((zero_tensor, h[:-1]), 0)\n",
    "        h_r = torch.cat((h[1:], zero_tensor), 0)\n",
    "        h = filt[0] * h + filt[2] * h_l + filt[1] * h_r\n",
    "        \n",
    "        if i % 2 == 0 : \n",
    "            h = torch.cat((h[h.shape[0]//2:], h[:h.shape[0]//2]), 0)\n",
    "    \n",
    "    return h"
   ]
  },
  {
   "cell_type": "markdown",
   "metadata": {},
   "source": [
    "다음으로 무작위 텐서(random_tensor)를 weird_function() 함수에 입력해 얻은 가설(hypothesis) 텐서와 오염된 이미지 사이의 오차를 구하는 함수를 구현한다."
   ]
  },
  {
   "cell_type": "code",
   "execution_count": 17,
   "metadata": {},
   "outputs": [],
   "source": [
    "def distance_loss(hypothesis, broken_image) : \n",
    "    \n",
    "    dist = torch.dist(hypothesis, broken_image)\n",
    "    \n",
    "    return dist"
   ]
  },
  {
   "cell_type": "markdown",
   "metadata": {},
   "source": [
    "다음으로 무작위 값을 가진 텐서를 생성한다. 이 텐서는 경사하강법을 통해 언젠가는 우너본 이미지의 형상을 하게 될 것이다. 이 무작위 텐서 역시 image와 같은 모양과 랭크를 지녀야 한다. 즉, [100,100] 모양의 행렬이 [10000] 모양의 벡터로 표현된 텐서이다."
   ]
  },
  {
   "cell_type": "code",
   "execution_count": 18,
   "metadata": {},
   "outputs": [],
   "source": [
    "random_tensor = torch.randn(10000, dtype=torch.float)"
   ]
  },
  {
   "cell_type": "markdown",
   "metadata": {},
   "source": [
    "경사하강법은 여러 번 반복해서 이뤄진다. 이 때 한 반복에서 최솟점으로 얼마나 많이 이동하는지, 즉 학습을 얼마나 급하게 진행하는가를 정하는 매개변수를 학습률(learning rate)라고 한다."
   ]
  },
  {
   "cell_type": "code",
   "execution_count": 19,
   "metadata": {},
   "outputs": [],
   "source": [
    "lr = 0.8"
   ]
  },
  {
   "cell_type": "markdown",
   "metadata": {},
   "source": [
    "![학습률](./Image/figure13.jpg)"
   ]
  },
  {
   "cell_type": "markdown",
   "metadata": {},
   "source": [
    "학습률이 너무 크면 오차 함수가 최솟점을 찾지 못하고 지나치게 되고, 값이 너무 작으면 학습속도가 느려진다. 따라서 적당한 값의 학습률을 찾는 것이 중요하다."
   ]
  },
  {
   "cell_type": "markdown",
   "metadata": {},
   "source": [
    "이제 준비는 모두 끝났으니 경사하강법의 몸체인 for 반복문을 구현하면 다음과 같다."
   ]
  },
  {
   "cell_type": "code",
   "execution_count": 20,
   "metadata": {
    "scrolled": false
   },
   "outputs": [
    {
     "name": "stdout",
     "output_type": "stream",
     "text": [
      "Loss as 0 = 12.17892837524414\n",
      "Loss as 1000 = 1.150317668914795\n",
      "Loss as 2000 = 0.537704586982727\n",
      "Loss as 3000 = 0.3728707730770111\n",
      "Loss as 4000 = 0.2981227934360504\n",
      "Loss as 5000 = 0.25189727544784546\n",
      "Loss as 6000 = 0.21797199547290802\n",
      "Loss as 7000 = 0.19059854745864868\n",
      "Loss as 8000 = 0.16720587015151978\n",
      "Loss as 9000 = 0.14642594754695892\n",
      "Loss as 10000 = 0.12744498252868652\n",
      "Loss as 11000 = 0.10974709689617157\n",
      "Loss as 12000 = 0.09299108386039734\n",
      "Loss as 13000 = 0.07694529742002487\n",
      "Loss as 14000 = 0.06144954636693001\n",
      "Loss as 15000 = 0.04639150947332382\n",
      "Loss as 16000 = 0.03169414401054382\n",
      "Loss as 17000 = 0.021141527220606804\n",
      "Loss as 18000 = 0.021165065467357635\n",
      "Loss as 19000 = 0.02116728387773037\n"
     ]
    },
    {
     "data": {
      "image/png": "[encoded data removed]",
      "text/plain": [
       "<Figure size 432x288 with 1 Axes>"
      ]
     },
     "metadata": {
      "needs_background": "light"
     },
     "output_type": "display_data"
    }
   ],
   "source": [
    "for i in range(0,20000) : \n",
    "    \n",
    "    random_tensor.requires_grad_(True)\n",
    "    \n",
    "    # 무작위 텐서(random_tensor)를 weird_function() 함수에 통과시켜 가설(hypothesis)을 구한다.\n",
    "    hypothesis = weird_function(random_tensor)\n",
    "\n",
    "    # 앞에서 정의한 distance_loss() 함수에 hypothesis와 broken_image를 입력해 오차를 계산한다.\n",
    "    loss = distance_loss(hypothesis, broken_image)\n",
    "\n",
    "    # loss, backward() 함수를 호출해 loss를 random_tensor로 미분한다.\n",
    "    loss.backward()\n",
    "    \n",
    "    # 파이토치는 신경망 모델 속 변수들이 지나가는 길인 그래프를 생성한다. \n",
    "    # 이번 예제에서는 직접 경사하강법을 구현하기 때문에 \n",
    "    # torch.no_grad() 함수를 이용해 파이토치의 자동 기울기 계산을 비활성화해야한다.\n",
    "    with torch.no_grad() :\n",
    "        \n",
    "        # 이제 경사하강법의 핵심 동작을 코딩한다. \n",
    "        # random_tensor.grad에는 loss.backward() 함수에서 계산한 loss의 기울기\n",
    "        # 즉 loss가 최댓점이 되는 곳의 방향이 들어있다. \n",
    "        # 이 방향의 반대쪽으로 random_tensor를 학습률(lr)만큼 이동시킨다.\n",
    "        random_tensor = random_tensor - lr * random_tensor.grad\n",
    "    \n",
    "    # 1,000번째 마다 오차를 출력한다.\n",
    "    if i % 1000 == 0 : \n",
    "        print(\"Loss as {} = {}\". format(i, loss.item()))\n",
    "        \n",
    "# 복원된 이미지를 확인한다.\n",
    "plt.imshow(random_tensor.view(100,100).data)\n",
    "plt.show()"
   ]
  },
  {
   "cell_type": "markdown",
   "metadata": {},
   "source": [
    "만약, 500번만 반복한다면 제대로 복원할 수 있을까? 아래는 다시 랜덤 테서를 초기화 시키고, 5,000번만 반복했을 때의 결과이다. 위의 복원 결과와는 다르게 아직 완벽하게 복원되지 않은 것을 알 수 있다."
   ]
  },
  {
   "cell_type": "code",
   "execution_count": 21,
   "metadata": {},
   "outputs": [
    {
     "name": "stdout",
     "output_type": "stream",
     "text": [
      "Loss as 0 = 12.405853271484375\n",
      "Loss as 1000 = 1.1663545370101929\n",
      "Loss as 2000 = 0.5580965280532837\n",
      "Loss as 3000 = 0.38765934109687805\n",
      "Loss as 4000 = 0.3082273006439209\n"
     ]
    },
    {
     "data": {
      "image/png": "[encoded data removed]",
      "text/plain": [
       "<Figure size 432x288 with 1 Axes>"
      ]
     },
     "metadata": {
      "needs_background": "light"
     },
     "output_type": "display_data"
    }
   ],
   "source": [
    "random_tensor = torch.randn(10000, dtype=torch.float)\n",
    "lr = 0.8\n",
    "\n",
    "for i in range(0,5000) : \n",
    "    random_tensor.requires_grad_(True)\n",
    "    \n",
    "    # 무작위 텐서(random_tensor)를 weird_function() 함수에 통과시켜 가설(hypothesis)을 구한다.\n",
    "    hypothesis = weird_function(random_tensor)\n",
    "\n",
    "    # 앞에서 정의한 distance_loss() 함수에 hypothesis와 broken_image를 입력해 오차를 계산한다.\n",
    "    loss = distance_loss(hypothesis, broken_image)\n",
    "\n",
    "    # loss, backward() 함수를 호출해 loss를 random_tensor로 미분한다.\n",
    "    loss.backward()\n",
    "    \n",
    "    # 파이토치는 신경망 모델 속 변수들이 지나가는 길인 그래프를 생성한다. \n",
    "    # 이번 예제에서는 직접 경사하강법을 구현하기 때문에 \n",
    "    # torch.no_grad() 함수를 이용해 파이토치의 자동 기울기 계산을 비활성화해야한다.\n",
    "    with torch.no_grad() :\n",
    "        \n",
    "        # 이제 경사하강법의 핵심 동작을 코딩한다. \n",
    "        # random_tensor.grad에는 loss.backward() 함수에서 계산한 loss의 기울기\n",
    "        # 즉 loss가 최댓점이 되는 곳의 방향이 들어있다. \n",
    "        # 이 방향의 반대쪽으로 random_tensor를 학습률(lr)만큼 이동시킨다.\n",
    "        random_tensor = random_tensor - lr * random_tensor.grad\n",
    "    \n",
    "    # 1,000번째 마다 오차를 출력한다.\n",
    "    if i % 1000 == 0 : \n",
    "        print(\"Loss as {} = {}\". format(i, loss.item()))\n",
    "        \n",
    "# 복원된 이미지를 확인한다.\n",
    "plt.imshow(random_tensor.view(100,100).data)\n",
    "plt.show()"
   ]
  },
  {
   "cell_type": "markdown",
   "metadata": {},
   "source": [
    "경사하강법을 좀 더 구체적으로 알아보기 위해 이번에는 파이토치의 편의성을 다소 배제하였다. 머신러닝과 딥러닝에 대한 안목을 키우는 데는 이렇게 살짝 귀찮은 방법으로 코딩해보는 것도 좋은 공부법이라고 생각한다."
   ]
  },
  {
   "cell_type": "markdown",
   "metadata": {},
   "source": [
    "# 3.3 신경망 모델 구현하기"
   ]
  },
  {
   "cell_type": "markdown",
   "metadata": {},
   "source": [
    "## 3.3.1 인공신경망(ANN)"
   ]
  },
  {
   "cell_type": "markdown",
   "metadata": {},
   "source": [
    "이름에서 알 수 있듯이 **인공 신경망(artificial neural network, ANN)은** 인간의 뇌, 혹은 신경계의 잗공 방식에서 영감을 받았다. 신경계가 작동하려면 가장 먼저 눈이나 혀 같은 감각 기관을 통해 자극을 입력받아야 한다. 이런 자극이 첫 번째 신경세포로 전달되고, 이 신경세포는 자극을 처리해 인접한 신경세포로 전달한다. 이러한 자극 처리와 전달 과정을 반복하다보면 신경계는 자극에 따라 다른 반응을 하게 되고, 언젠가는 맛을 판별하거나 손가락을 움직이는 등 다양하고 복잡한 작업도 할 수 있게 된다."
   ]
  },
  {
   "cell_type": "markdown",
   "metadata": {},
   "source": [
    "그러나, 비행기가 새에서 영감을 받았지만 날개를 펄럭이진 않듯, 인공 신경망은 뇌에서 영감을 받았지만 생물학적인 구조를 그대로 따르지는 않는다."
   ]
  },
  {
   "cell_type": "markdown",
   "metadata": {},
   "source": [
    "인공 신경망에서 자극을 입력받는 감각기관에 해당하는 부분을 **입력층(Input Layer)** 이라고 한다. 입력층을 거친 자극은 **은닉층(ㅗHidden Layer)** 을 지나, 마지막 뉴런인 **출력층(Output Layer)** 으로 전달된다. 각 층에 존재하는 한 단위의 인공 뉴런을 **노드(Node)** 라고 한다."
   ]
  },
  {
   "cell_type": "markdown",
   "metadata": {},
   "source": [
    "![인공 신경망](./Image/figure14.png)"
   ]
  },
  {
   "cell_type": "markdown",
   "metadata": {},
   "source": [
    "한의 생물학적 신경세포는 인접한 신경세포로 자극을 전달하기 전, 입력받은 자극에 여러 화학적 처리를 가한다고 한다. 이와 비슷하게 인공 신경망의 각 노드 역시 입력된 자극에 화학적 처리 대신 특정한 수학 연산을 실행한다. 바로 각 층에 존재하는 매개변수인 **가중치(Weight)** 에 행렬곱시키고 **편향(Bias)** 을 더해주는 것이다."
   ]
  },
  {
   "cell_type": "markdown",
   "metadata": {},
   "source": [
    "가중치는 입력 신호가 출력에 주는 영향을 계산하는 매개변수이고, 편향은 각 노드가 얼마나 데이터에 민감한지 알려주는 매개변수이다."
   ]
  },
  {
   "cell_type": "markdown",
   "metadata": {},
   "source": [
    "그리고 이 행렬곱의 결과는 **활성화 함수(Activation Function)** 를 거쳐 인공뉴런의 결과값을 산출하게 된다. 활성화 함수는 입력에 적절한 처리를 해서 출력 신호로 변환하는 함수이다. 활성화 함수는 입력 신호의 합이 활성화를 일으키는지 아닌지를 정하는 역할을 한다."
   ]
  },
  {
   "cell_type": "markdown",
   "metadata": {},
   "source": [
    "![가중치, 편향, 그리고 활성화 함수](./Image/figure15.png)"
   ]
  },
  {
   "cell_type": "markdown",
   "metadata": {},
   "source": [
    "이 결과값은 잇닿은 은닉층의 인공뉴런으로 전달되고, 다시 한번 가중치 곱과 활성화 함수를 거치게 된다. 이러한 뉴런 간의 자극 처리와 전달 과정을 몇 겹애 걸쳐 반복한 후 마지막 출력층에서 결괏값을 만들어내는 것이 인공신경망의 기본적인 작동 원리이다."
   ]
  },
  {
   "cell_type": "markdown",
   "metadata": {},
   "source": [
    "물론 이것이 끝이 아니다. 우리는 인공 신경망의 출력층이 낸 결괏값과 정답을 비교해 오차를 계산해야 한다. 이 오차를 기반으로 신경망 전체를 학습시키려면 출력층의 가중치부터 입력층의 가중치까지 모두 경사하강법을 활용해 변경해줘야 한다. 이렇게 겹겹이 쌓여진 가중치를 뒤에서붙 차례대로 조정하고 최적화하는 알고리즘이 바로 그 유명한 **역전파(Backpropagation)** 알고리즘이다."
   ]
  },
  {
   "cell_type": "markdown",
   "metadata": {},
   "source": [
    "실제로 층이 많은 인공 신경망의 역전파 알고리즘을 구현하기란 복잡하고 어렵다. 다행히 파이토치는 역전파 기법을 기본으로 제공하기 때문에 우리가 직접 구현할 일은 없다."
   ]
  },
  {
   "cell_type": "markdown",
   "metadata": {},
   "source": [
    "## 3.3.2 간단한 분류 모델 구현하기"
   ]
  },
  {
   "cell_type": "markdown",
   "metadata": {},
   "source": [
    "이번에는 지도학습, 그 중에서도 분류(Classification)를 하는 간단한 인공 신경망을 구현해본다."
   ]
  },
  {
   "cell_type": "markdown",
   "metadata": {},
   "source": [
    "분류의 목적은 \"정답\"을 맞추는 것이다. 기본적인 분류에 사용할 0과 1로 된 정답을 가진 비교적 단순한 데이터셋을 생성해보고, 신경망 모델을 학습하여 입력된 데이터를 0과 1 중 알맞은 카데고리로 분류하는 것이다."
   ]
  },
  {
   "cell_type": "code",
   "execution_count": 22,
   "metadata": {},
   "outputs": [],
   "source": [
    "# 필요한 라이브러리\n",
    "import torch\n",
    "import numpy as np\n",
    "from sklearn.datasets import make_blobs\n",
    "import matplotlib.pyplot as plt\n",
    "import torch.nn.functional as F"
   ]
  },
  {
   "cell_type": "code",
   "execution_count": 23,
   "metadata": {},
   "outputs": [],
   "source": [
    "# 신경망의 학습과 평가에 사용할 데이터셋 만들기\n",
    "\n",
    "# make_blobs 함수는 등방성 가우시안 정규분포를 이용해 가상 데이터를 생성\n",
    "\n",
    "# 차원 수\n",
    "n_dim = 2\n",
    "\n",
    "# Train Dataset\n",
    "x_train, y_train = make_blobs(n_samples = 80,                                 # 데이터셋 크기, 디폴트 100\n",
    "                              n_features = n_dim,                             # 데이터셋 차원 수, 디폴트 20\n",
    "                              centers = [[1,1],[-1,-1],[1,-1],[-1,1]],       # 생성할 클러스터의 수 혹은 중심\n",
    "                              shuffle = True,                                # 데이터 셔플 유무\n",
    "                              cluster_std = 0.3)                              # 클러스터의 표준편차, 디폴트 1.0\n",
    "\n",
    "# Test Dataset\n",
    "x_test, y_test = make_blobs(n_samples = 20,                                 # 데이터셋 크기, 디폴트 100\n",
    "                           n_features = n_dim,                             # 데이터셋 차원 수, 디폴트 20\n",
    "                           centers = [[1,1],[-1,-1],[1,-1],[-1,1]],       # 생성할 클러스터의 수 혹은 중심\n",
    "                           shuffle = True,                                # 데이터 셔플 유무\n",
    "                           cluster_std = 0.3)                              # 클러스터의 표준편차, 디폴트 1.0"
   ]
  },
  {
   "cell_type": "code",
   "execution_count": 24,
   "metadata": {},
   "outputs": [
    {
     "data": {
      "image/png": "[encoded data removed]",
      "text/plain": [
       "<Figure size 432x288 with 1 Axes>"
      ]
     },
     "metadata": {
      "needs_background": "light"
     },
     "output_type": "display_data"
    }
   ],
   "source": [
    "# matplotlib 폰트설정\n",
    "# plt.rc('font', family='NanumGothicOTF') # For MacOS\n",
    "plt.rc('font', family='NanumGothic') # For Windows\n",
    "\n",
    "plt.title(\"4개의 클러스터를 가진 가상 데이터\")\n",
    "plt.scatter(x_train[:, 0], x_train[:, 1], marker='o', c=y_train, s=100, edgecolor=\"k\", linewidth=2)\n",
    "plt.xlabel(\"$X_1$\")\n",
    "plt.ylabel(\"$X_2$\")\n",
    "plt.show()"
   ]
  },
  {
   "cell_type": "code",
   "execution_count": 25,
   "metadata": {},
   "outputs": [],
   "source": [
    "# 이항분류를 위한 label 통합\n",
    "# 0,1 -> 0\n",
    "# 2,3 -> 1\n",
    "\n",
    "def label_map (y_, from_, to_) : \n",
    "    y = np.copy(y_)\n",
    "    for f in from_ :\n",
    "        y[y_ == f] = to_\n",
    "    return y\n",
    "\n",
    "y_train = label_map(y_train, [0,1], 0)\n",
    "y_train = label_map(y_train, [2,3], 1)\n",
    "y_test = label_map(y_test, [0,1], 0)\n",
    "y_test = label_map(y_test, [2,3], 1)"
   ]
  },
  {
   "cell_type": "code",
   "execution_count": 26,
   "metadata": {},
   "outputs": [
    {
     "data": {
      "image/png": "[encoded data removed]",
      "text/plain": [
       "<Figure size 432x288 with 1 Axes>"
      ]
     },
     "metadata": {
      "needs_background": "light"
     },
     "output_type": "display_data"
    }
   ],
   "source": [
    "# 라벨 통합 후 시각화\n",
    "def vis_data (x,y = None, c = \"r\") : \n",
    "    if y is None : \n",
    "        y = [None] * len(x)\n",
    "    for x_, y_, in zip(x,y) : \n",
    "        if y_ is None : \n",
    "            plt.plot(x_[0], x_[1], \"*\", markerfacecolor = \"none\")\n",
    "        else : \n",
    "            plt.plot(x_[0], x_[1], c + \"o\" if y_ == 0 else c + \"+\")\n",
    "\n",
    "plt.figure()\n",
    "vis_data(x_train, y_train, c = \"r\")\n",
    "plt.show()"
   ]
  },
  {
   "cell_type": "code",
   "execution_count": 27,
   "metadata": {},
   "outputs": [],
   "source": [
    "# 생성된 넘파이 벡터 형식 데이터를 파이토치 텐서로 변환\n",
    "x_train = torch.FloatTensor(x_train)\n",
    "x_test = torch.FloatTensor(x_test)\n",
    "y_train = torch.FloatTensor(y_train)\n",
    "y_test = torch.FloatTensor(y_test)"
   ]
  },
  {
   "cell_type": "code",
   "execution_count": 28,
   "metadata": {},
   "outputs": [],
   "source": [
    "# 신경망 모델 구현\n",
    "\n",
    "# 파이토치에서 신경망은 보통 신경망 모듈(torch.nn.Module)을 상속 받는 파이썬 클래스로 정의한다.\n",
    "# nn.Module 을 상속받으면 파이토치 프레임워크에 있는 각종 도구를 쉽게 적용할 수 있다.\n",
    "\n",
    "class NeuralNet(torch.nn.Module) : \n",
    "\n",
    "    # 생성자 정의\n",
    "    # 생성자는 신경망 구조와 동작을 정의한다.\n",
    "    # __init__() 함수는 파이썬에서 객체가 갖는 속성값을 초기화한다.\n",
    "    # super() 함수를 부르면 우리가 만든 NeuralNet 클래스는 파이토치의 nn.Module 클래스의\n",
    "    # 속성들을 가지고 초기화된다.\n",
    "    def __init__(self, input_size, hidden_size) : \n",
    "        super(NeuralNet, self).__init__()\n",
    "        \n",
    "        # 입력층, 은닉층 크기 정의\n",
    "        self.input_size = input_size\n",
    "        self.hidden_size = hidden_size\n",
    "        \n",
    "        # 연산 정의\n",
    "        # torch.nn.Linear() 함수는 앞서 설명한 행렬곱과 편향을 포함하는 연산을 지원한다.\n",
    "        # relu() 와 sigmoid()는 각 단계에서 수행할 활성화 함수이다.\n",
    "        self.linear_1 = torch.nn.Linear(self.input_size, self.hidden_size)\n",
    "        self.relu = torch.nn.ReLU()\n",
    "        self.linear_2 = torch.nn.Linear(self.hidden_size, 1)\n",
    "        self.sigmoid = torch.nn.Sigmoid()\n",
    "    \n",
    "    # 동작 실행\n",
    "    # linear_1d은 입력 데이터에 [input_size,, hidden_size] 크기의 가중치를 행렬곱하고 편향을 더하여\n",
    "    # [1, hidden_size] 꼴의 텐서를 반환한다.\n",
    "    # 이 텐서에 torch.nn.ReLU() 활성화 함수를 적용한다.\n",
    "    # ReLU는 입력값이 0보다 작으면 0을, 0보다 크면 입력값을 그대로 출력한다.\n",
    "    # 예를들어, 텐서 [-1,1,3,-5,-7]이 ReLU() 를 거치면 텐서 [0,1,3,0,0]이 반한된다.\n",
    "    # ReLU() 함수를 통과한 텐서는 다시 한 번 linear_2로 정의된 행렬곱을 거쳐 [1,1] 이 된다.\n",
    "    # 마지막으로 이 텐서를 sigmoid() 활성화 함수에 입력한다.\n",
    "    # sigmoid 함수는 0과 1 사이의 값을 반환한다.\n",
    "    # linear_2를 거친 텐서는 사실상 어느 값이라도 취할 수 있다.\n",
    "    # 하지만, 이 결과만으론 데이터가 0과 1 중 어디에 속한지는 분류가 불가능하다.\n",
    "    # 이를 0과 1 사이에 임의의 수로 제한해주는 sigmoid 함수에 통과시키면,\n",
    "    # 결과값이 얼마나 0이나 1 중 어디에 가까운지 알 수 있다.\n",
    "    def forward(self, input_tensor) : \n",
    "        linear1 = self.linear_1(input_tensor)\n",
    "        relu = self.relu(linear1)\n",
    "        linear2 = self.linear_2(relu)\n",
    "        output = self.sigmoid(linear2)\n",
    "        return output"
   ]
  },
  {
   "cell_type": "code",
   "execution_count": 29,
   "metadata": {},
   "outputs": [
    {
     "data": {
      "image/png": "[encoded data removed]",
      "text/plain": [
       "<Figure size 432x288 with 1 Axes>"
      ]
     },
     "metadata": {
      "needs_background": "light"
     },
     "output_type": "display_data"
    }
   ],
   "source": [
    "# ReLU 함수\n",
    "\n",
    "def relu (x) : \n",
    "    return np.maximum(0, x)\n",
    "\n",
    "import numpy as np\n",
    "x = np.arange(-5, 5, 0.1)\n",
    "y = relu(x)\n",
    "plt.plot(x,y)\n",
    "plt.title(\"ReLU\")\n",
    "plt.show()"
   ]
  },
  {
   "cell_type": "code",
   "execution_count": 30,
   "metadata": {},
   "outputs": [
    {
     "data": {
      "image/png": "[encoded data removed]",
      "text/plain": [
       "<Figure size 432x288 with 1 Axes>"
      ]
     },
     "metadata": {
      "needs_background": "light"
     },
     "output_type": "display_data"
    }
   ],
   "source": [
    "# Sigmoid 함수\n",
    "\n",
    "def sigmoid (x) : \n",
    "    return 1 / (1 + np.exp(-x))\n",
    "\n",
    "import numpy as np\n",
    "x = np.arange(-5, 5, 0.1)\n",
    "y = sigmoid(x)\n",
    "plt.plot(x,y)\n",
    "plt.title(\"Sigmoid\")\n",
    "plt.show()"
   ]
  },
  {
   "cell_type": "code",
   "execution_count": 31,
   "metadata": {},
   "outputs": [],
   "source": [
    "# 신경망 객체 생성 및 하이퍼파라미터 정의\n",
    "model = NeuralNet(2,5)                 # 입력층이 2개, 은닉층이 5개인 신경망 생성\n",
    "learning_rate = 0.03                   # 학습률 설정\n",
    "criterion = torch.nn.BCELoss()         # 오차함수 지정, BCELoss() : Binary Cross Entropy, 이진 교차 엔트로피\n",
    "epochs = 2000                          # 전체 학습 데잍를 총 몇 번 모델에 입력하는지\n",
    "\n",
    "# 학습에 사용할 최적화 알고리즘 : 확률적 경사 하강법 (SGD, Stochastic Gradient Descent)\n",
    "optimizer = torch.optim.SGD(model.parameters(), lr = learning_rate)"
   ]
  },
  {
   "cell_type": "code",
   "execution_count": 32,
   "metadata": {},
   "outputs": [
    {
     "name": "stdout",
     "output_type": "stream",
     "text": [
      "Before Training, test loss is 0.6903582215309143\n"
     ]
    }
   ],
   "source": [
    "# 아무 학습도 하지 않은 모델의 성능\n",
    "\n",
    "# 모델의 결과값과 레이블값의 차원을 맞춰야 하므로 squeeze() 함수를 호출\n",
    "# item() 함수는 텐서 속의 숫자를 스칼라 값으로 반환\n",
    "\n",
    "# 결과는 0.78 즉, 100번 찍어 78개는 틀린다는 뜻이다.\n",
    "\n",
    "model.eval()\n",
    "test_loss_before = criterion(model(x_test).squeeze(), y_test)\n",
    "print(\"Before Training, test loss is {}\" .format(test_loss_before.item()))"
   ]
  },
  {
   "cell_type": "code",
   "execution_count": 33,
   "metadata": {},
   "outputs": [
    {
     "name": "stdout",
     "output_type": "stream",
     "text": [
      "Train loss at 0 is 0.6903923749923706\n",
      "Train loss at 500 is 0.30239683389663696\n",
      "Train loss at 1000 is 0.12756666541099548\n",
      "Train loss at 1500 is 0.07403949648141861\n"
     ]
    }
   ],
   "source": [
    "# 신경망 학습\n",
    "\n",
    "for epoch in range(epochs) :\n",
    "    # 학습 모드로 변환\n",
    "    model.train()        \n",
    "    \n",
    "    # 폭마다 새로운 경사값을 위해 zero_grad() 함수를 호출해 경삿값을 0으로 설정\n",
    "    optimizer.zero_grad()\n",
    "    \n",
    "    # 결과값 계산\n",
    "    train_output = model(x_train)\n",
    "    \n",
    "    # 오차 계산\n",
    "    train_loss = criterion(train_output.squeeze(), y_train)\n",
    "    \n",
    "    # 500 에폭 마다 결과 출력\n",
    "    if epoch % 500 == 0 :\n",
    "        print(\"Train loss at {} is {}\" .format(epoch, train_loss.item()))\n",
    "        \n",
    "    # 오차 함수를 가중치로 미분하여 오차가 최소가 되는 방향을 구함.\n",
    "    # 그 방향을 모델을 학습률만큼 이동\n",
    "    train_loss.backward()\n",
    "    optimizer.step()"
   ]
  },
  {
   "cell_type": "code",
   "execution_count": 34,
   "metadata": {},
   "outputs": [
    {
     "name": "stdout",
     "output_type": "stream",
     "text": [
      "After Training, test loss is 0.05747053027153015\n"
     ]
    }
   ],
   "source": [
    "# Test 데이터를 이용한 모델 평가\n",
    "model.eval()\n",
    "test_loss_after = criterion(model(x_test).squeeze(), y_test)\n",
    "print(\"After Training, test loss is {}\" .format(test_loss_after.item()))"
   ]
  },
  {
   "cell_type": "code",
   "execution_count": 35,
   "metadata": {},
   "outputs": [
    {
     "name": "stdout",
     "output_type": "stream",
     "text": [
      "stat_dict format of the model : OrderedDict([('linear_1.weight', tensor([[-1.8739,  1.4416],\n",
      "        [-0.8747, -0.7334],\n",
      "        [ 0.2891, -0.0804],\n",
      "        [-1.0008,  0.7742],\n",
      "        [ 1.6400, -1.8391]])), ('linear_1.bias', tensor([-0.2697,  0.0472, -0.6982, -0.2007, -0.6044])), ('linear_2.weight', tensor([[ 2.1517, -1.1344,  0.1061,  0.9431,  2.5227]])), ('linear_2.bias', tensor([-2.4777]))])\n"
     ]
    }
   ],
   "source": [
    "# 학습된 모델을 state_dict() 함수 형태로 바꾸어 준 후 .pt 파일로 저장\n",
    "torch.save(model.state_dict(), \"./model.pt\")\n",
    "\n",
    "print(\"stat_dict format of the model : {}\" .format(model.state_dict()))"
   ]
  },
  {
   "cell_type": "code",
   "execution_count": 36,
   "metadata": {},
   "outputs": [
    {
     "data": {
      "text/plain": [
       "<All keys matched successfully>"
      ]
     },
     "execution_count": 36,
     "metadata": {},
     "output_type": "execute_result"
    }
   ],
   "source": [
    "# 새로운 모델에 학습된 모델의 가중치를 바로 적용\n",
    "new_model = NeuralNet(2,5)\n",
    "new_model.load_state_dict(torch.load(\"./model.pt\"))"
   ]
  },
  {
   "cell_type": "code",
   "execution_count": 37,
   "metadata": {},
   "outputs": [
    {
     "name": "stdout",
     "output_type": "stream",
     "text": [
      "벡터 [-1,1]이 레이블 1을 가질 확률은 0.9952605366706848\n"
     ]
    }
   ],
   "source": [
    "# 새로운 모델에 벡터[-1,1] 을 입력해보면  레이블이 1일 확률이 매우 높게 측정된다.\n",
    "new_model.eval()\n",
    "print(\"벡터 [-1,1]이 레이블 1을 가질 확률은 {}\" .format(new_model(torch.FloatTensor([-1,1])).item()))"
   ]
  }
 ],
 "metadata": {
  "kernelspec": {
   "display_name": "Python 3",
   "language": "python",
   "name": "python3"
  },
  "language_info": {
   "codemirror_mode": {
    "name": "ipython",
    "version": 3
   },
   "file_extension": ".py",
   "mimetype": "text/x-python",
   "name": "python",
   "nbconvert_exporter": "python",
   "pygments_lexer": "ipython3",
   "version": "3.6.7"
  }
 },
 "nbformat": 4,
 "nbformat_minor": 2
}
