{
 "cells": [
  {
   "cell_type": "markdown",
   "metadata": {},
   "source": [
    "# 2.1 파이토치 설치 & 환경 구성"
   ]
  },
  {
   "cell_type": "markdown",
   "metadata": {},
   "source": [
    "## 2.1.1 파이썬 버전 확인"
   ]
  },
  {
   "cell_type": "markdown",
   "metadata": {},
   "source": [
    "Anaconda Prompt에서 \n",
    "\n",
    "~~~\n",
    "> python --version\n",
    "\n",
    "Python 3.6.7 :: Anaconda, Inc.\n",
    "~~~\n",
    "\n",
    "위의 코드를 실행하면 현재 아나콘다에 설치되어 있는 파이썬의 버전을 확인할 수 있다."
   ]
  },
  {
   "cell_type": "markdown",
   "metadata": {},
   "source": [
    "## 2.1.2 파이토치 설치"
   ]
  },
  {
   "cell_type": "markdown",
   "metadata": {},
   "source": [
    "1. 파이토치 공식 홈페이지에 접속 : https://pytorch.org\n",
    "\n",
    "\n",
    "2. 현재 나의 옵션에 맞게 다운로드 옵션 설정"
   ]
  },
  {
   "cell_type": "markdown",
   "metadata": {},
   "source": [
    "![파이토치 설정](./Image/figure07.png)"
   ]
  },
  {
   "cell_type": "markdown",
   "metadata": {},
   "source": [
    "3. Run this Command를 복사해서 명령프롬포트에 복사해서 설치"
   ]
  },
  {
   "cell_type": "markdown",
   "metadata": {},
   "source": [
    "![파이토치 설치](./Image/figure08.png)"
   ]
  },
  {
   "cell_type": "markdown",
   "metadata": {},
   "source": [
    "4. 또한 토치비전(torchvision)과 토치텍스트(torchtext)도 같이 설치하는데, 토치비젼은 파이토치 설치시 자동으로 설치가 된다.\n",
    "\n",
    "\n",
    "5. 토치텍스트는 pip install torchtext 를 통해 설치 해주어야 한다."
   ]
  },
  {
   "cell_type": "markdown",
   "metadata": {},
   "source": [
    "![토치텍스트 설치](./Image/figure09.png)"
   ]
  },
  {
   "cell_type": "markdown",
   "metadata": {},
   "source": [
    "# 2.1.3 파이토치 실행해보기"
   ]
  },
  {
   "cell_type": "code",
   "execution_count": 1,
   "metadata": {},
   "outputs": [],
   "source": [
    "import torch"
   ]
  }
 ],
 "metadata": {
  "kernelspec": {
   "display_name": "Python 3",
   "language": "python",
   "name": "python3"
  },
  "language_info": {
   "codemirror_mode": {
    "name": "ipython",
    "version": 3
   },
   "file_extension": ".py",
   "mimetype": "text/x-python",
   "name": "python",
   "nbconvert_exporter": "python",
   "pygments_lexer": "ipython3",
   "version": "3.6.7"
  }
 },
 "nbformat": 4,
 "nbformat_minor": 2
}
